{
 "cells": [
  {
   "cell_type": "markdown",
   "metadata": {},
   "source": [
    "# Model Building"
   ]
  },
  {
   "cell_type": "markdown",
   "metadata": {},
   "source": [
    "### Importing libraries"
   ]
  },
  {
   "cell_type": "code",
   "execution_count": 1,
   "metadata": {},
   "outputs": [],
   "source": [
    "# This library helps add support for large, multi-dimensional arrays and matrices\n",
    "import numpy as np\n",
    "#open source used for both ML and DL for computation\n",
    "import tensorflow as tf\n",
    "#it is a plain stack of layers\n",
    "from tensorflow.keras.models import Sequential \n",
    "#Dense layer is the regular deeply connected neural network layer\n",
    "from tensorflow.keras.layers import Dense,Flatten, Dropout\n",
    "#Faltten-used fot flattening the input or change the dimension, MaxPooling2D-for downsampling the image for Convolutional layer\n",
    "from tensorflow.keras.layers import Convolution2D,MaxPooling2D \n",
    "#Its used for different augmentation of the image \n",
    "from tensorflow.keras.preprocessing.image import ImageDataGenerator"
   ]
  },
  {
   "cell_type": "markdown",
   "metadata": {},
   "source": [
    "### Augmenting the data "
   ]
  },
  {
   "cell_type": "code",
   "execution_count": 2,
   "metadata": {},
   "outputs": [],
   "source": [
    "#setting parameter for Image Data agumentation to the traing data\n",
    "train_datagen = ImageDataGenerator(rescale=1./255,\n",
    "                                shear_range=0.2,\n",
    "                                zoom_range=0.2,\n",
    "                                horizontal_flip=True)\n",
    "#Image Data agumentation to the testing data\n",
    "test_datagen=ImageDataGenerator(rescale=1./255)"
   ]
  },
  {
   "cell_type": "markdown",
   "metadata": {},
   "source": [
    "### Loading our data and performing data agumentation"
   ]
  },
  {
   "cell_type": "code",
   "execution_count": 3,
   "metadata": {},
   "outputs": [
    {
     "name": "stdout",
     "output_type": "stream",
     "text": [
      "Found 594 images belonging to 6 classes.\n",
      "Found 30 images belonging to 6 classes.\n"
     ]
    }
   ],
   "source": [
    "#performing data agumentation to train data\n",
    "x_train = train_datagen.flow_from_directory(r'c:\\\\Users\\\\Lenovo\\\\Desktop\\\\HandGesture Project\\\\Dataset\\\\train',\n",
    "                                            target_size=(64, 64),\n",
    "                                            batch_size=3,\n",
    "                                            color_mode='grayscale',\n",
    "                                            class_mode='categorical')\n",
    "#performing data agumentation to test data\n",
    "x_test = test_datagen.flow_from_directory(r'c:\\\\Users\\\\Lenovo\\\\Desktop\\\\HandGesture Project\\\\Dataset\\\\test',\n",
    "                                            target_size=(64, 64),\n",
    "                                            batch_size=3,\n",
    "                                            color_mode='grayscale',\n",
    "                                            class_mode='categorical') "
   ]
  },
  {
   "cell_type": "code",
   "execution_count": 4,
   "metadata": {},
   "outputs": [
    {
     "name": "stdout",
     "output_type": "stream",
     "text": [
      "{'0': 0, '1': 1, '2': 2, '3': 3, '4': 4, '5': 5}\n"
     ]
    }
   ],
   "source": [
    "print(x_train.class_indices)#checking the number of classes"
   ]
  },
  {
   "cell_type": "markdown",
   "metadata": {},
   "source": [
    "### Model Creation"
   ]
  },
  {
   "cell_type": "code",
   "execution_count": 5,
   "metadata": {},
   "outputs": [],
   "source": [
    "# Initializing the CNN\n",
    "model = Sequential()"
   ]
  },
  {
   "cell_type": "code",
   "execution_count": 6,
   "metadata": {},
   "outputs": [],
   "source": [
    "# First convolution layer and pooling\n",
    "model.add(Convolution2D(32, (3, 3), input_shape=(64, 64, 1), activation='relu'))\n",
    "model.add(MaxPooling2D(pool_size=(2, 2)))"
   ]
  },
  {
   "cell_type": "code",
   "execution_count": 7,
   "metadata": {},
   "outputs": [],
   "source": [
    "# Second convolution layer and pooling\n",
    "model.add(Convolution2D(32, (3, 3), activation='relu'))\n",
    "# input_shape is going to be the pooled feature maps from the previous convolution layer\n",
    "model.add(MaxPooling2D(pool_size=(2,2)))"
   ]
  },
  {
   "cell_type": "code",
   "execution_count": 8,
   "metadata": {},
   "outputs": [],
   "source": [
    "# Flattening the layers i.e. input layer\n",
    "model.add(Flatten())"
   ]
  },
  {
   "cell_type": "code",
   "execution_count": 9,
   "metadata": {},
   "outputs": [],
   "source": [
    "# Adding a fully connected layer, i.e. Hidden Layer\n",
    "model.add(Dense(units=512 , activation='relu'))"
   ]
  },
  {
   "cell_type": "code",
   "execution_count": 10,
   "metadata": {},
   "outputs": [],
   "source": [
    "# softmax for categorical analysis, Output Layer\n",
    "model.add(Dense(units=6, activation='softmax')) "
   ]
  },
  {
   "cell_type": "code",
   "execution_count": 11,
   "metadata": {},
   "outputs": [
    {
     "name": "stdout",
     "output_type": "stream",
     "text": [
      "Model: \"sequential\"\n",
      "_________________________________________________________________\n",
      " Layer (type)                Output Shape              Param #   \n",
      "=================================================================\n",
      " conv2d (Conv2D)             (None, 62, 62, 32)        320       \n",
      "                                                                 \n",
      " max_pooling2d (MaxPooling2D  (None, 31, 31, 32)       0         \n",
      " )                                                               \n",
      "                                                                 \n",
      " conv2d_1 (Conv2D)           (None, 29, 29, 32)        9248      \n",
      "                                                                 \n",
      " max_pooling2d_1 (MaxPooling  (None, 14, 14, 32)       0         \n",
      " 2D)                                                             \n",
      "                                                                 \n",
      " flatten (Flatten)           (None, 6272)              0         \n",
      "                                                                 \n",
      " dense (Dense)               (None, 512)               3211776   \n",
      "                                                                 \n",
      " dense_1 (Dense)             (None, 6)                 3078      \n",
      "                                                                 \n",
      "=================================================================\n",
      "Total params: 3,224,422\n",
      "Trainable params: 3,224,422\n",
      "Non-trainable params: 0\n",
      "_________________________________________________________________\n"
     ]
    }
   ],
   "source": [
    "model.summary()#summary of our model"
   ]
  },
  {
   "cell_type": "markdown",
   "metadata": {},
   "source": [
    "### Model Compilation"
   ]
  },
  {
   "cell_type": "code",
   "execution_count": 12,
   "metadata": {},
   "outputs": [],
   "source": [
    "# Compiling the CNN\n",
    "# categorical_crossentropy for more than 2\n",
    "model.compile(optimizer='adam', loss='categorical_crossentropy', metrics=['accuracy']) "
   ]
  },
  {
   "cell_type": "markdown",
   "metadata": {},
   "source": [
    "## Model fitting"
   ]
  },
  {
   "cell_type": "code",
   "execution_count": 13,
   "metadata": {
    "scrolled": true
   },
   "outputs": [
    {
     "name": "stderr",
     "output_type": "stream",
     "text": [
      "<ipython-input-13-b82b2aea274a>:2: UserWarning: `Model.fit_generator` is deprecated and will be removed in a future version. Please use `Model.fit`, which supports generators.\n",
      "  model.fit_generator(x_train,\n"
     ]
    },
    {
     "name": "stdout",
     "output_type": "stream",
     "text": [
      "Epoch 1/25\n",
      "198/198 [==============================] - 32s 147ms/step - loss: 1.2378 - accuracy: 0.5320 - val_loss: 1.1555 - val_accuracy: 0.6000\n",
      "Epoch 2/25\n",
      "198/198 [==============================] - 28s 143ms/step - loss: 0.5663 - accuracy: 0.8098 - val_loss: 0.4631 - val_accuracy: 0.8667\n",
      "Epoch 3/25\n",
      "198/198 [==============================] - 28s 143ms/step - loss: 0.3975 - accuracy: 0.8367 - val_loss: 0.3920 - val_accuracy: 0.9333\n",
      "Epoch 4/25\n",
      "198/198 [==============================] - 29s 145ms/step - loss: 0.2721 - accuracy: 0.8973 - val_loss: 0.2764 - val_accuracy: 0.9333\n",
      "Epoch 5/25\n",
      "198/198 [==============================] - 29s 148ms/step - loss: 0.2176 - accuracy: 0.9158 - val_loss: 0.3460 - val_accuracy: 0.9333\n",
      "Epoch 6/25\n",
      "198/198 [==============================] - 29s 145ms/step - loss: 0.1216 - accuracy: 0.9630 - val_loss: 0.2057 - val_accuracy: 0.9667\n",
      "Epoch 7/25\n",
      "198/198 [==============================] - 29s 147ms/step - loss: 0.2095 - accuracy: 0.9226 - val_loss: 0.2158 - val_accuracy: 0.9000\n",
      "Epoch 8/25\n",
      "198/198 [==============================] - 29s 145ms/step - loss: 0.0939 - accuracy: 0.9680 - val_loss: 0.1869 - val_accuracy: 0.9667\n",
      "Epoch 9/25\n",
      "198/198 [==============================] - 29s 147ms/step - loss: 0.0766 - accuracy: 0.9781 - val_loss: 0.2568 - val_accuracy: 0.9333\n",
      "Epoch 10/25\n",
      "198/198 [==============================] - 29s 146ms/step - loss: 0.0912 - accuracy: 0.9646 - val_loss: 0.2486 - val_accuracy: 0.9667\n",
      "Epoch 11/25\n",
      "198/198 [==============================] - 29s 147ms/step - loss: 0.0763 - accuracy: 0.9764 - val_loss: 0.2858 - val_accuracy: 0.9667\n",
      "Epoch 12/25\n",
      "198/198 [==============================] - 29s 145ms/step - loss: 0.0888 - accuracy: 0.9646 - val_loss: 0.2923 - val_accuracy: 0.9333\n",
      "Epoch 13/25\n",
      "198/198 [==============================] - 31s 158ms/step - loss: 0.0480 - accuracy: 0.9832 - val_loss: 0.2839 - val_accuracy: 0.9667\n",
      "Epoch 14/25\n",
      "198/198 [==============================] - 29s 146ms/step - loss: 0.0427 - accuracy: 0.9832 - val_loss: 0.3369 - val_accuracy: 0.9667\n",
      "Epoch 15/25\n",
      "198/198 [==============================] - 29s 146ms/step - loss: 0.0680 - accuracy: 0.9798 - val_loss: 0.2288 - val_accuracy: 0.9333\n",
      "Epoch 16/25\n",
      "198/198 [==============================] - 29s 146ms/step - loss: 0.0604 - accuracy: 0.9832 - val_loss: 0.2925 - val_accuracy: 0.9333\n",
      "Epoch 17/25\n",
      "198/198 [==============================] - 29s 145ms/step - loss: 0.0645 - accuracy: 0.9798 - val_loss: 0.3579 - val_accuracy: 0.9667\n",
      "Epoch 18/25\n",
      "198/198 [==============================] - 29s 146ms/step - loss: 0.0513 - accuracy: 0.9848 - val_loss: 0.4407 - val_accuracy: 0.9333\n",
      "Epoch 19/25\n",
      "198/198 [==============================] - 29s 146ms/step - loss: 0.0363 - accuracy: 0.9882 - val_loss: 0.7043 - val_accuracy: 0.9333\n",
      "Epoch 20/25\n",
      "198/198 [==============================] - 30s 150ms/step - loss: 0.0428 - accuracy: 0.9848 - val_loss: 0.5748 - val_accuracy: 0.9333\n",
      "Epoch 21/25\n",
      "198/198 [==============================] - 30s 149ms/step - loss: 0.0719 - accuracy: 0.9764 - val_loss: 0.4943 - val_accuracy: 0.9333\n",
      "Epoch 22/25\n",
      "198/198 [==============================] - 30s 150ms/step - loss: 0.0151 - accuracy: 0.9949 - val_loss: 0.7291 - val_accuracy: 0.8333\n",
      "Epoch 23/25\n",
      "198/198 [==============================] - 32s 160ms/step - loss: 0.0960 - accuracy: 0.9714 - val_loss: 0.4366 - val_accuracy: 0.9333\n",
      "Epoch 24/25\n",
      "198/198 [==============================] - 31s 157ms/step - loss: 0.0407 - accuracy: 0.9832 - val_loss: 0.4262 - val_accuracy: 0.9333\n",
      "Epoch 25/25\n",
      "198/198 [==============================] - 33s 164ms/step - loss: 0.0245 - accuracy: 0.9916 - val_loss: 0.4915 - val_accuracy: 0.9333\n"
     ]
    },
    {
     "data": {
      "text/plain": [
       "<keras.callbacks.History at 0x258575b7d00>"
      ]
     },
     "execution_count": 13,
     "metadata": {},
     "output_type": "execute_result"
    }
   ],
   "source": [
    "# It will generate packets of train and test data for training\n",
    "model.fit_generator(x_train,\n",
    "                    steps_per_epoch = 594/3 , \n",
    "                    epochs = 25, \n",
    "                    validation_data = x_test,\n",
    "                    validation_steps = 30/3 )"
   ]
  },
  {
   "cell_type": "markdown",
   "metadata": {},
   "source": [
    "### Saving model"
   ]
  },
  {
   "cell_type": "code",
   "execution_count": 18,
   "metadata": {},
   "outputs": [],
   "source": [
    "# Save the model\n",
    "model.save('gesture.h5')"
   ]
  },
  {
   "cell_type": "code",
   "execution_count": 19,
   "metadata": {},
   "outputs": [],
   "source": [
    "model_json = model.to_json()\n",
    "with open(\"model-bw.json\", \"w\") as json_file:\n",
    "    json_file.write(model_json)"
   ]
  },
  {
   "cell_type": "code",
   "execution_count": null,
   "metadata": {},
   "outputs": [],
   "source": []
  },
  {
   "cell_type": "code",
   "execution_count": null,
   "metadata": {},
   "outputs": [],
   "source": []
  }
 ],
 "metadata": {
  "kernelspec": {
   "display_name": "Python 3",
   "language": "python",
   "name": "python3"
  },
  "language_info": {
   "codemirror_mode": {
    "name": "ipython",
    "version": 3
   },
   "file_extension": ".py",
   "mimetype": "text/x-python",
   "name": "python",
   "nbconvert_exporter": "python",
   "pygments_lexer": "ipython3",
   "version": "3.8.8"
  },
  "vscode": {
   "interpreter": {
    "hash": "0f75822dacd6ac62cb74de537fa5fcc27b21a2b6e13479e323d0bf827e138a8b"
   }
  }
 },
 "nbformat": 4,
 "nbformat_minor": 4
}
